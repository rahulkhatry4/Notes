{
 "cells": [
  {
   "cell_type": "code",
   "execution_count": 1,
   "metadata": {},
   "outputs": [],
   "source": [
    "import pandas as pd"
   ]
  },
  {
   "cell_type": "code",
   "execution_count": 3,
   "metadata": {},
   "outputs": [
    {
     "name": "stdout",
     "output_type": "stream",
     "text": [
      "Collecting xlrd\n",
      "  Downloading xlrd-2.0.1-py2.py3-none-any.whl (96 kB)\n",
      "\u001b[K     |████████████████████████████████| 96 kB 684 kB/s eta 0:00:01\n",
      "\u001b[?25hInstalling collected packages: xlrd\n",
      "Successfully installed xlrd-2.0.1\n"
     ]
    }
   ],
   "source": [
    "!pip install xlrd"
   ]
  },
  {
   "cell_type": "code",
   "execution_count": 6,
   "metadata": {},
   "outputs": [],
   "source": [
    "notes_links = pd.read_excel('NotesFiles.xls', header=None, sheet_name='Physics')"
   ]
  },
  {
   "cell_type": "code",
   "execution_count": 9,
   "metadata": {},
   "outputs": [
    {
     "data": {
      "text/plain": [
       "0     https://5/rahulkhatry4/Notes/blob/main/Physics...\n",
       "1     https://5/rahulkhatry4/Notes/blob/main/Physics...\n",
       "2     https://5/rahulkhatry4/Notes/blob/main/Physics...\n",
       "3     https://5/rahulkhatry4/Notes/blob/main/Physics...\n",
       "4     https://5/rahulkhatry4/Notes/blob/main/Physics...\n",
       "5     https://5/rahulkhatry4/Notes/blob/main/Physics...\n",
       "6     https://5/rahulkhatry4/Notes/blob/main/Physics...\n",
       "7     https://5/rahulkhatry4/Notes/blob/main/Physics...\n",
       "8     https://5/rahulkhatry4/Notes/blob/main/Physics...\n",
       "9     https://5/rahulkhatry4/Notes/blob/main/Physics...\n",
       "10    https://5/rahulkhatry4/Notes/blob/main/Physics...\n",
       "11    https://5/rahulkhatry4/Notes/blob/main/Physics...\n",
       "12    https://5/rahulkhatry4/Notes/blob/main/Physics...\n",
       "13    https://5/rahulkhatry4/Notes/blob/main/Physics...\n",
       "14    https://5/rahulkhatry4/Notes/blob/main/Physics...\n",
       "15    https://5/rahulkhatry4/Notes/blob/main/Physics...\n",
       "16    https://5/rahulkhatry4/Notes/blob/main/Physics...\n",
       "17    https://5/rahulkhatry4/Notes/blob/main/Physics...\n",
       "18    https://5/rahulkhatry4/Notes/blob/main/Physics...\n",
       "19    https://5/rahulkhatry4/Notes/blob/main/Physics...\n",
       "20    https://5/rahulkhatry4/Notes/blob/main/Physics...\n",
       "21    https://5/rahulkhatry4/Notes/blob/main/Physics...\n",
       "22    https://5/rahulkhatry4/Notes/blob/main/Physics...\n",
       "23    https://5/rahulkhatry4/Notes/blob/main/Physics...\n",
       "24    https://5/rahulkhatry4/Notes/blob/main/Physics...\n",
       "25    https://5/rahulkhatry4/Notes/blob/main/Physics...\n",
       "26    https://5/rahulkhatry4/Notes/blob/main/Physics...\n",
       "27    https://5/rahulkhatry4/Notes/blob/main/Physics...\n",
       "28    https://5/rahulkhatry4/Notes/blob/main/Physics...\n",
       "29    https://5/rahulkhatry4/Notes/blob/main/Physics...\n",
       "30    https://5/rahulkhatry4/Notes/blob/main/Physics...\n",
       "31    https://5/rahulkhatry4/Notes/blob/main/Physics...\n",
       "dtype: object"
      ]
     },
     "execution_count": 9,
     "metadata": {},
     "output_type": "execute_result"
    }
   ],
   "source": [
    "notes_links.apply(lambda row: row[0].replace('github.com', 'raw.githubusercontent.com').replace('/blob', ''), axis=1)"
   ]
  },
  {
   "cell_type": "code",
   "execution_count": null,
   "metadata": {},
   "outputs": [],
   "source": []
  }
 ],
 "metadata": {
  "kernelspec": {
   "display_name": "Python 3",
   "language": "python",
   "name": "python3"
  },
  "language_info": {
   "codemirror_mode": {
    "name": "ipython",
    "version": 3
   },
   "file_extension": ".py",
   "mimetype": "text/x-python",
   "name": "python",
   "nbconvert_exporter": "python",
   "pygments_lexer": "ipython3",
   "version": "3.6.13"
  }
 },
 "nbformat": 4,
 "nbformat_minor": 4
}
